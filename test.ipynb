{
 "cells": [
  {
   "cell_type": "code",
   "execution_count": 1,
   "metadata": {},
   "outputs": [],
   "source": [
    "from transformers import AutoModelForCausalLM, AutoTokenizer, set_seed\n",
    "import numpy as np\n",
    "from datasets import load_dataset\n",
    "import torch\n",
    "from tqdm import tqdm"
   ]
  },
  {
   "cell_type": "code",
   "execution_count": 2,
   "metadata": {},
   "outputs": [
    {
     "data": {
      "application/vnd.jupyter.widget-view+json": {
       "model_id": "91bb404063224facbffd30f57dc7ce8d",
       "version_major": 2,
       "version_minor": 0
      },
      "text/plain": [
       "Loading checkpoint shards:   0%|          | 0/4 [00:00<?, ?it/s]"
      ]
     },
     "metadata": {},
     "output_type": "display_data"
    },
    {
     "name": "stderr",
     "output_type": "stream",
     "text": [
      "Special tokens have been added in the vocabulary, make sure the associated word embeddings are fine-tuned or trained.\n"
     ]
    }
   ],
   "source": [
    "set_seed(0)\n",
    "\n",
    "model = AutoModelForCausalLM.from_pretrained(\"meta-llama/Meta-Llama-3-8B-Instruct\", torch_dtype=torch.bfloat16)\n",
    "tokenizer = AutoTokenizer.from_pretrained(\"meta-llama/Meta-Llama-3-8B-Instruct\", padding_side='left')\n",
    "tokenizer.pad_token = tokenizer.eos_token"
   ]
  },
  {
   "cell_type": "code",
   "execution_count": 3,
   "metadata": {},
   "outputs": [
    {
     "name": "stderr",
     "output_type": "stream",
     "text": [
      "/data/oam_patel/miniconda3/envs/itc/lib/python3.11/site-packages/datasets/load.py:1486: FutureWarning: The repository for tatsu-lab/alpaca_eval contains custom code which must be executed to correctly load the dataset. You can inspect the repository content at https://hf.co/datasets/tatsu-lab/alpaca_eval\n",
      "You can avoid this message in future by passing the argument `trust_remote_code=True`.\n",
      "Passing `trust_remote_code=True` will be mandatory to load this dataset from the next major release of `datasets`.\n",
      "  warnings.warn(\n"
     ]
    }
   ],
   "source": [
    "alpaca_eval = load_dataset(\"tatsu-lab/alpaca_eval\", \"alpaca_eval\")[\"eval\"]"
   ]
  },
  {
   "cell_type": "code",
   "execution_count": 9,
   "metadata": {},
   "outputs": [
    {
     "data": {
      "text/plain": [
       "(array([488., 176.,  64.,  28.,  13.,  10.,  10.,   2.,   1.,   2.,   7.,\n",
       "          0.,   1.,   0.,   0.,   1.,   1.,   0.,   0.,   1.]),\n",
       " array([  9.,  33.,  57.,  81., 105., 129., 153., 177., 201., 225., 249.,\n",
       "        273., 297., 321., 345., 369., 393., 417., 441., 465., 489.]),\n",
       " <BarContainer object of 20 artists>)"
      ]
     },
     "execution_count": 9,
     "metadata": {},
     "output_type": "execute_result"
    },
    {
     "data": {
      "image/png": "[encoded data removed]",
      "text/plain": [
       "<Figure size 640x480 with 1 Axes>"
      ]
     },
     "metadata": {},
     "output_type": "display_data"
    }
   ],
   "source": [
    "prompts = alpaca_eval['instruction']\n",
    "messages = [[{\"role\": \"user\", \"content\": p}] for p in prompts]\n",
    "inputs = tokenizer.apply_chat_template(messages, tokenize=True)\n",
    "lens = [len(i) for i in inputs]\n",
    "\n",
    "import matplotlib.pyplot as plt\n",
    "plt.hist(lens, bins=20)"
   ]
  },
  {
   "cell_type": "code",
   "execution_count": 48,
   "metadata": {},
   "outputs": [],
   "source": [
    "def batched_generate_n(model, tokenizer, prompts, n, batch_size=8, max_new_tokens=256, temperature=1, device='cuda'): \n",
    "    \n",
    "    model = model.to(device)\n",
    "    model.eval()\n",
    "    \n",
    "    generated = []\n",
    "    for i in tqdm(range(0, len(prompts), batch_size)):\n",
    "        batch = prompts[i:i+batch_size]\n",
    "        batch = [[{\"role\": \"user\", \"content\": p}] for p in batch]\n",
    "        inputs = tokenizer.apply_chat_template(batch, tokenize=True, padding=True, return_tensors=\"pt\").to(device)\n",
    "        attn_mask = torch.ones_like(inputs).to(device)\n",
    "        attn_mask[inputs == tokenizer.pad_token_id] = 0\n",
    "        outputs = model.generate(inputs, attention_mask=attn_mask, max_new_tokens=max_new_tokens, num_return_sequences=n, temperature=temperature)\n",
    "        outputs = outputs[:, inputs.shape[1]+5:]\n",
    "        outputs = tokenizer.batch_decode(outputs, skip_special_tokens=True)\n",
    "        for j in range(len(batch)):\n",
    "            generated.append(outputs[j*n:(j+1)*n])\n",
    "    return generated\n",
    "        \n",
    "    "
   ]
  },
  {
   "cell_type": "code",
   "execution_count": 49,
   "metadata": {},
   "outputs": [
    {
     "name": "stderr",
     "output_type": "stream",
     "text": [
      "  0%|          | 0/1 [00:00<?, ?it/s]Setting `pad_token_id` to `eos_token_id`:128001 for open-end generation.\n",
      "100%|██████████| 1/1 [00:08<00:00,  8.49s/it]\n"
     ]
    }
   ],
   "source": [
    "generated = batched_generate_n(model, tokenizer, alpaca_eval['instruction'][:2], n=2)"
   ]
  },
  {
   "cell_type": "code",
   "execution_count": 50,
   "metadata": {},
   "outputs": [
    {
     "data": {
      "text/plain": [
       "[['Many famous actors got their start on Broadway before making it big in Hollywood. Here are some examples:\\n\\n1. Julie Andrews: Andrews made her Broadway debut in 1954 in \"The Boy Friend\" and went on to star in \"My Fair Lady\" and \"Camelot\" before winning the Oscar for \"Mary Poppins.\"\\n2. Gene Kelly: Kelly started his career on Broadway in the 1930s, appearing in shows like \"Leave It to Me!\" and \"Pal Joey\" before becoming a movie star in the 1940s and \\'50s.\\n3. Jack Lemmon: Lemmon began his career on Broadway in the 1940s, appearing in shows like \"Room Service\" and \"Operation Mad Ball.\" He later became a film star, known for his collaborations with director Billy Wilder.\\n4. Shirley MacLaine: MacLaine made her Broadway debut in 1956 in \"Wild Is the Wind\" and went on to star in \"The Full Monty\" and \"Applause\" before becoming a film star in the 1960s and \\'70s.\\n5. Alan Alda: Alda started his career on Broadway in the 1950s, appearing in shows like \"',\n",
       "  'Many famous actors got their start on the Great White Way before making it big on the silver screen. Here are some notable examples:\\n\\n1. Neil Patrick Harris - Started on Broadway in \"Grease\" and \"Assassins\" before becoming a TV star in \"Doogie Howser, M.D.\" and \"How I Met Your Mother.\"\\n2. Matthew Broderick - Made his Broadway debut in \"The Producers\" and later starred in \"Brighton Beach Memoirs\" and \"Fiddler on the Roof\" before becoming a Hollywood leading man.\\n3. Nathan Lane - Began his career on Broadway in \"Noises Off\" and \"Guys and Dolls\" before winning Tony Awards for \"The Producers\" and \"A Funny Thing Happened on the Way to the Forum.\"\\n4. Whoopi Goldberg - Started on Broadway in \"Whose Life Is It Anyway?\" and \"A Soldier\\'s Play\" before becoming a comedy legend with her stand-up routines and roles in \"The Color Purple\" and \"Sister Act.\"\\n5. Hugh Jackman - Made his Broadway debut in \"Sunset Boulevard\" before starring in \"Oklahoma!\" and \"The Boy from Oz,\" earning a Tony Award for the latter.\\n6'],\n",
       " ['What a fascinating topic! The origins of US state names are a blend of history, geography, Native American languages, and cultural influences. Here\\'s a breakdown of how many US states got their names:\\n\\n1. **Geographical features**: Many states are named after prominent geographical features, such as:\\n\\t* Alabama (from the Alabama River)\\n\\t* Arizona (from the Pima Indian word \"alĭ ṣonak,\" meaning \"small spring\")\\n\\t* Colorado (from the Spanish word for \"red\" or \"ruddy,\" referring to the Colorado River)\\n\\t* Ohio (from the Iroquoian word \"ohi-yo,\" meaning \"beautiful river\")\\n2. **Native American tribes**: States are named after Native American tribes that once inhabited the region, such as:\\n\\t* Delaware (after the Delaware River and the Lenni-Lenape tribe)\\n\\t* Illinois (from the Algonquian word \"iliniwek,\" meaning \"men\" or \"warriors\")\\n\\t* Oklahoma (a combination of \"Okla,\" meaning \"people,\" and \"humma,\" meaning \"red\")\\n3. **Colonial and European influences**: States are named after European colonizers, explorers, or monarch',\n",
       "  'What a fascinating topic! The origins of US state names are diverse and reflect the history, culture, and geography of each region. Here\\'s a brief rundown on how many US states got their names:\\n\\n1. **Native American influences**: Many states were named after Native American tribes, words, or concepts:\\n\\t* Alabama (from the Alabama tribe)\\n\\t* Arizona (from the Apache word \"alĭ ṣonak,\" meaning \"small spring\")\\n\\t* Iowa (from the Iowa tribe)\\n\\t* Ohio (from the Seneca word \"ohiːyo\\', meaning \"beautiful river\" or \"large creek\")\\n\\t* Oklahoma (from the Choctaw word \"okla,\" meaning \"people,\" and \"humma,\" meaning \"red\")\\n2. **European explorers and settlers**: Some states were named after European explorers, settlers, or leaders:\\n\\t* Georgia (after King George II of England)\\n\\t* Massachusetts (after the Massachusett tribe and the Massachusetts Bay Company)\\n\\t* Michigan (after Lake Michigan, which was named by French explorers)\\n\\t* Virginia (after the Virgin Queen, Elizabeth I of England)\\n3. **Geographical features**: Several states were named after natural landmarks,']]"
      ]
     },
     "execution_count": 50,
     "metadata": {},
     "output_type": "execute_result"
    }
   ],
   "source": [
    "generated"
   ]
  },
  {
   "cell_type": "code",
   "execution_count": 29,
   "metadata": {},
   "outputs": [
    {
     "data": {
      "text/plain": [
       "tensor([128000, 128006,    882, 128007,    271,   4438,   1550,   2326,   5415,\n",
       "           636,    872,   5144,     30, 128009, 128009, 128009, 128009, 128009,\n",
       "        128009, 128009, 128009, 128006, 128006,  78191, 128007,    271,   3923,\n",
       "           264,   2294,   3488,      0,    578,  33472,    315,   2326,   1614,\n",
       "          5144,    527,  27387,    323,   3629,   8881,    279,   3925,     11,\n",
       "         54242,     11,    323,  13042,  28948,    315,   1855,   5654,     13,\n",
       "          5810,    596,    264,  10015,  95748,   1473,    334,  21464,   3778,\n",
       "         34453,     25,  57277,      9,  28366,     25,  68949,    505,    279,\n",
       "         19623,    332,   3492,    330,    278,    710,     82,   9786,     80,\n",
       "          1359,   7438,    330,   3902,   1974,      1,    477,    330,  29526,\n",
       "         10246,      9,  17368,     25,  54328,    505,    279,    393,   7675,\n",
       "         17118,   3778,  34671,    596,   3492,    330,    278,    128,    255,\n",
       "         87189,    117,     96,    263,    587,   1359,   7438,    330,   9181,\n",
       "         10683,  10246,      9,  22108,     25,  41559,   1306,    279,   9346,\n",
       "           613,    355,   7211,  34671,     11,    902,   3445,    330,  16455,\n",
       "           315,    279,   2294,  24898,      1,    477,    330,     69,    531,\n",
       "           458,  14733,  10246,      9,  23640,     25,    362,  66663,   1376,\n",
       "           315,    330,  11839,   4355,  13525,   1764,   1359,   7438,    330,\n",
       "          1171,   1274,      1,    304,    279,  33680,    302,    675,   4221,\n",
       "           627,      9,  23195,     25,  68949,    505,    279,    549,    668,\n",
       "         34671,    596,    836,     11,   7438,    330,  16455,    315,    279,\n",
       "         24405,   2266,    334,  64469,  34453,     25,  57277,      9,   7188,\n",
       "            25,  41559,    555,  15506,  48539,    388,     11,  11000,    505,\n",
       "           264,  84219,  13218,    304,    264,   5526,    220,    845,    339,\n",
       "         34457,  11775,     11,    330,  44903,  55347,    300,    409,   9419,\n",
       "           501,  65674,  11644,      1,    320,    791,  51679,    315,   9419,\n",
       "           501,  65674,  11644,   4390,      9,   9784,     25,   5659,    279,\n",
       "         15506,   3492,    330,   1517,  40857,   1359,   7438,    330,  39853,\n",
       "             1,    477,    330,   1974,    315,  19837,   1359,   4245,    311,\n",
       "           279,   5654,    596,  58367,  54832,    627,      9,  16272,     25,\n",
       "         41559,    304,  16044,    315,   6342,  10058,   8105],\n",
       "       device='cuda:0')"
      ]
     },
     "execution_count": 29,
     "metadata": {},
     "output_type": "execute_result"
    }
   ],
   "source": [
    "generated[2]"
   ]
  },
  {
   "cell_type": "code",
   "execution_count": null,
   "metadata": {},
   "outputs": [],
   "source": []
  }
 ],
 "metadata": {
  "kernelspec": {
   "display_name": "itc",
   "language": "python",
   "name": "python3"
  },
  "language_info": {
   "codemirror_mode": {
    "name": "ipython",
    "version": 3
   },
   "file_extension": ".py",
   "mimetype": "text/x-python",
   "name": "python",
   "nbconvert_exporter": "python",
   "pygments_lexer": "ipython3",
   "version": "3.11.9"
  }
 },
 "nbformat": 4,
 "nbformat_minor": 2
}
